{
  "nbformat": 4,
  "nbformat_minor": 0,
  "metadata": {
    "colab": {
      "name": "covid.ipynb",
      "provenance": []
    },
    "kernelspec": {
      "name": "python3",
      "display_name": "Python 3"
    },
    "language_info": {
      "name": "python"
    }
  },
  "cells": [
    {
      "cell_type": "code",
      "metadata": {
        "id": "Xb4T6Gy0UVhq"
      },
      "source": [
        "import numpy as np \n",
        "import pandas as pd \n",
        "import matplotlib.pyplot as plt\n",
        "import tensorflow as tf \n",
        "from tensorflow import keras \n",
        "%matplotlib inline"
      ],
      "execution_count": 1,
      "outputs": []
    },
    {
      "cell_type": "code",
      "metadata": {
        "id": "XOcN6m1bUcPa",
        "colab": {
          "base_uri": "https://localhost:8080/"
        },
        "outputId": "71d683fb-fa8a-48f4-eb5c-23ec89022635"
      },
      "source": [
        "country = str(input(\"Enter Country(US, Egypt... etc):\"))\n",
        "\n",
        "df_confirmed = pd.read_csv('/content/drive/MyDrive/Projects/convid/time_series_covid19_confirmed_global.csv')"
      ],
      "execution_count": 21,
      "outputs": [
        {
          "name": "stdout",
          "output_type": "stream",
          "text": [
            "Enter Country(US, Egypt... etc):US\n"
          ]
        }
      ]
    },
    {
      "cell_type": "code",
      "metadata": {
        "colab": {
          "base_uri": "https://localhost:8080/",
          "height": 256
        },
        "id": "SbxCLWF2VA_Q",
        "outputId": "93973473-04ec-4bd2-de60-9ca7900210f7"
      },
      "source": [
        "df_confirmed.head()"
      ],
      "execution_count": 22,
      "outputs": [
        {
          "output_type": "execute_result",
          "data": {
            "text/html": [
              "<div>\n",
              "<style scoped>\n",
              "    .dataframe tbody tr th:only-of-type {\n",
              "        vertical-align: middle;\n",
              "    }\n",
              "\n",
              "    .dataframe tbody tr th {\n",
              "        vertical-align: top;\n",
              "    }\n",
              "\n",
              "    .dataframe thead th {\n",
              "        text-align: right;\n",
              "    }\n",
              "</style>\n",
              "<table border=\"1\" class=\"dataframe\">\n",
              "  <thead>\n",
              "    <tr style=\"text-align: right;\">\n",
              "      <th></th>\n",
              "      <th>Province/State</th>\n",
              "      <th>Country/Region</th>\n",
              "      <th>Lat</th>\n",
              "      <th>Long</th>\n",
              "      <th>1/22/20</th>\n",
              "      <th>1/23/20</th>\n",
              "      <th>1/24/20</th>\n",
              "      <th>1/25/20</th>\n",
              "      <th>1/26/20</th>\n",
              "      <th>1/27/20</th>\n",
              "      <th>1/28/20</th>\n",
              "      <th>1/29/20</th>\n",
              "      <th>1/30/20</th>\n",
              "      <th>1/31/20</th>\n",
              "      <th>2/1/20</th>\n",
              "      <th>2/2/20</th>\n",
              "      <th>2/3/20</th>\n",
              "      <th>2/4/20</th>\n",
              "      <th>2/5/20</th>\n",
              "      <th>2/6/20</th>\n",
              "      <th>2/7/20</th>\n",
              "      <th>2/8/20</th>\n",
              "      <th>2/9/20</th>\n",
              "      <th>2/10/20</th>\n",
              "      <th>2/11/20</th>\n",
              "      <th>2/12/20</th>\n",
              "      <th>2/13/20</th>\n",
              "      <th>2/14/20</th>\n",
              "      <th>2/15/20</th>\n",
              "      <th>2/16/20</th>\n",
              "      <th>2/17/20</th>\n",
              "      <th>2/18/20</th>\n",
              "      <th>2/19/20</th>\n",
              "      <th>2/20/20</th>\n",
              "      <th>2/21/20</th>\n",
              "      <th>2/22/20</th>\n",
              "      <th>2/23/20</th>\n",
              "      <th>2/24/20</th>\n",
              "      <th>2/25/20</th>\n",
              "      <th>2/26/20</th>\n",
              "      <th>...</th>\n",
              "      <th>10/9/21</th>\n",
              "      <th>10/10/21</th>\n",
              "      <th>10/11/21</th>\n",
              "      <th>10/12/21</th>\n",
              "      <th>10/13/21</th>\n",
              "      <th>10/14/21</th>\n",
              "      <th>10/15/21</th>\n",
              "      <th>10/16/21</th>\n",
              "      <th>10/17/21</th>\n",
              "      <th>10/18/21</th>\n",
              "      <th>10/19/21</th>\n",
              "      <th>10/20/21</th>\n",
              "      <th>10/21/21</th>\n",
              "      <th>10/22/21</th>\n",
              "      <th>10/23/21</th>\n",
              "      <th>10/24/21</th>\n",
              "      <th>10/25/21</th>\n",
              "      <th>10/26/21</th>\n",
              "      <th>10/27/21</th>\n",
              "      <th>10/28/21</th>\n",
              "      <th>10/29/21</th>\n",
              "      <th>10/30/21</th>\n",
              "      <th>10/31/21</th>\n",
              "      <th>11/1/21</th>\n",
              "      <th>11/2/21</th>\n",
              "      <th>11/3/21</th>\n",
              "      <th>11/4/21</th>\n",
              "      <th>11/5/21</th>\n",
              "      <th>11/6/21</th>\n",
              "      <th>11/7/21</th>\n",
              "      <th>11/8/21</th>\n",
              "      <th>11/9/21</th>\n",
              "      <th>11/10/21</th>\n",
              "      <th>11/11/21</th>\n",
              "      <th>11/12/21</th>\n",
              "      <th>11/13/21</th>\n",
              "      <th>11/14/21</th>\n",
              "      <th>11/15/21</th>\n",
              "      <th>11/16/21</th>\n",
              "      <th>11/17/21</th>\n",
              "    </tr>\n",
              "  </thead>\n",
              "  <tbody>\n",
              "    <tr>\n",
              "      <th>0</th>\n",
              "      <td>NaN</td>\n",
              "      <td>Afghanistan</td>\n",
              "      <td>33.93911</td>\n",
              "      <td>67.709953</td>\n",
              "      <td>0</td>\n",
              "      <td>0</td>\n",
              "      <td>0</td>\n",
              "      <td>0</td>\n",
              "      <td>0</td>\n",
              "      <td>0</td>\n",
              "      <td>0</td>\n",
              "      <td>0</td>\n",
              "      <td>0</td>\n",
              "      <td>0</td>\n",
              "      <td>0</td>\n",
              "      <td>0</td>\n",
              "      <td>0</td>\n",
              "      <td>0</td>\n",
              "      <td>0</td>\n",
              "      <td>0</td>\n",
              "      <td>0</td>\n",
              "      <td>0</td>\n",
              "      <td>0</td>\n",
              "      <td>0</td>\n",
              "      <td>0</td>\n",
              "      <td>0</td>\n",
              "      <td>0</td>\n",
              "      <td>0</td>\n",
              "      <td>0</td>\n",
              "      <td>0</td>\n",
              "      <td>0</td>\n",
              "      <td>0</td>\n",
              "      <td>0</td>\n",
              "      <td>0</td>\n",
              "      <td>0</td>\n",
              "      <td>0</td>\n",
              "      <td>0</td>\n",
              "      <td>5</td>\n",
              "      <td>5</td>\n",
              "      <td>5</td>\n",
              "      <td>...</td>\n",
              "      <td>155466</td>\n",
              "      <td>155508</td>\n",
              "      <td>155540</td>\n",
              "      <td>155599</td>\n",
              "      <td>155627</td>\n",
              "      <td>155682</td>\n",
              "      <td>155688</td>\n",
              "      <td>155739</td>\n",
              "      <td>155764</td>\n",
              "      <td>155776</td>\n",
              "      <td>155801</td>\n",
              "      <td>155859</td>\n",
              "      <td>155891</td>\n",
              "      <td>155931</td>\n",
              "      <td>155940</td>\n",
              "      <td>155944</td>\n",
              "      <td>156040</td>\n",
              "      <td>156071</td>\n",
              "      <td>156124</td>\n",
              "      <td>156166</td>\n",
              "      <td>156196</td>\n",
              "      <td>156210</td>\n",
              "      <td>156250</td>\n",
              "      <td>156284</td>\n",
              "      <td>156307</td>\n",
              "      <td>156323</td>\n",
              "      <td>156363</td>\n",
              "      <td>156392</td>\n",
              "      <td>156397</td>\n",
              "      <td>156397</td>\n",
              "      <td>156397</td>\n",
              "      <td>156397</td>\n",
              "      <td>156414</td>\n",
              "      <td>156456</td>\n",
              "      <td>156487</td>\n",
              "      <td>156510</td>\n",
              "      <td>156552</td>\n",
              "      <td>156610</td>\n",
              "      <td>156649</td>\n",
              "      <td>156739</td>\n",
              "    </tr>\n",
              "    <tr>\n",
              "      <th>1</th>\n",
              "      <td>NaN</td>\n",
              "      <td>Albania</td>\n",
              "      <td>41.15330</td>\n",
              "      <td>20.168300</td>\n",
              "      <td>0</td>\n",
              "      <td>0</td>\n",
              "      <td>0</td>\n",
              "      <td>0</td>\n",
              "      <td>0</td>\n",
              "      <td>0</td>\n",
              "      <td>0</td>\n",
              "      <td>0</td>\n",
              "      <td>0</td>\n",
              "      <td>0</td>\n",
              "      <td>0</td>\n",
              "      <td>0</td>\n",
              "      <td>0</td>\n",
              "      <td>0</td>\n",
              "      <td>0</td>\n",
              "      <td>0</td>\n",
              "      <td>0</td>\n",
              "      <td>0</td>\n",
              "      <td>0</td>\n",
              "      <td>0</td>\n",
              "      <td>0</td>\n",
              "      <td>0</td>\n",
              "      <td>0</td>\n",
              "      <td>0</td>\n",
              "      <td>0</td>\n",
              "      <td>0</td>\n",
              "      <td>0</td>\n",
              "      <td>0</td>\n",
              "      <td>0</td>\n",
              "      <td>0</td>\n",
              "      <td>0</td>\n",
              "      <td>0</td>\n",
              "      <td>0</td>\n",
              "      <td>0</td>\n",
              "      <td>0</td>\n",
              "      <td>0</td>\n",
              "      <td>...</td>\n",
              "      <td>174643</td>\n",
              "      <td>174968</td>\n",
              "      <td>175163</td>\n",
              "      <td>175664</td>\n",
              "      <td>176172</td>\n",
              "      <td>176667</td>\n",
              "      <td>177108</td>\n",
              "      <td>177536</td>\n",
              "      <td>177971</td>\n",
              "      <td>178188</td>\n",
              "      <td>178804</td>\n",
              "      <td>179463</td>\n",
              "      <td>180029</td>\n",
              "      <td>180623</td>\n",
              "      <td>181252</td>\n",
              "      <td>181696</td>\n",
              "      <td>181960</td>\n",
              "      <td>182610</td>\n",
              "      <td>183282</td>\n",
              "      <td>183873</td>\n",
              "      <td>184340</td>\n",
              "      <td>184887</td>\n",
              "      <td>185300</td>\n",
              "      <td>185497</td>\n",
              "      <td>186222</td>\n",
              "      <td>186793</td>\n",
              "      <td>187363</td>\n",
              "      <td>187994</td>\n",
              "      <td>187994</td>\n",
              "      <td>189125</td>\n",
              "      <td>189355</td>\n",
              "      <td>190125</td>\n",
              "      <td>190815</td>\n",
              "      <td>191440</td>\n",
              "      <td>192013</td>\n",
              "      <td>192600</td>\n",
              "      <td>193075</td>\n",
              "      <td>193269</td>\n",
              "      <td>193856</td>\n",
              "      <td>194472</td>\n",
              "    </tr>\n",
              "    <tr>\n",
              "      <th>2</th>\n",
              "      <td>NaN</td>\n",
              "      <td>Algeria</td>\n",
              "      <td>28.03390</td>\n",
              "      <td>1.659600</td>\n",
              "      <td>0</td>\n",
              "      <td>0</td>\n",
              "      <td>0</td>\n",
              "      <td>0</td>\n",
              "      <td>0</td>\n",
              "      <td>0</td>\n",
              "      <td>0</td>\n",
              "      <td>0</td>\n",
              "      <td>0</td>\n",
              "      <td>0</td>\n",
              "      <td>0</td>\n",
              "      <td>0</td>\n",
              "      <td>0</td>\n",
              "      <td>0</td>\n",
              "      <td>0</td>\n",
              "      <td>0</td>\n",
              "      <td>0</td>\n",
              "      <td>0</td>\n",
              "      <td>0</td>\n",
              "      <td>0</td>\n",
              "      <td>0</td>\n",
              "      <td>0</td>\n",
              "      <td>0</td>\n",
              "      <td>0</td>\n",
              "      <td>0</td>\n",
              "      <td>0</td>\n",
              "      <td>0</td>\n",
              "      <td>0</td>\n",
              "      <td>0</td>\n",
              "      <td>0</td>\n",
              "      <td>0</td>\n",
              "      <td>0</td>\n",
              "      <td>0</td>\n",
              "      <td>0</td>\n",
              "      <td>1</td>\n",
              "      <td>1</td>\n",
              "      <td>...</td>\n",
              "      <td>204490</td>\n",
              "      <td>204597</td>\n",
              "      <td>204695</td>\n",
              "      <td>204790</td>\n",
              "      <td>204900</td>\n",
              "      <td>205005</td>\n",
              "      <td>205106</td>\n",
              "      <td>205199</td>\n",
              "      <td>205286</td>\n",
              "      <td>205364</td>\n",
              "      <td>205453</td>\n",
              "      <td>205529</td>\n",
              "      <td>205599</td>\n",
              "      <td>205683</td>\n",
              "      <td>205750</td>\n",
              "      <td>205822</td>\n",
              "      <td>205903</td>\n",
              "      <td>205990</td>\n",
              "      <td>206069</td>\n",
              "      <td>206160</td>\n",
              "      <td>206270</td>\n",
              "      <td>206358</td>\n",
              "      <td>206452</td>\n",
              "      <td>206566</td>\n",
              "      <td>206649</td>\n",
              "      <td>206754</td>\n",
              "      <td>206878</td>\n",
              "      <td>206995</td>\n",
              "      <td>207079</td>\n",
              "      <td>207156</td>\n",
              "      <td>207254</td>\n",
              "      <td>207385</td>\n",
              "      <td>207509</td>\n",
              "      <td>207624</td>\n",
              "      <td>207764</td>\n",
              "      <td>207873</td>\n",
              "      <td>207970</td>\n",
              "      <td>208104</td>\n",
              "      <td>208245</td>\n",
              "      <td>208380</td>\n",
              "    </tr>\n",
              "    <tr>\n",
              "      <th>3</th>\n",
              "      <td>NaN</td>\n",
              "      <td>Andorra</td>\n",
              "      <td>42.50630</td>\n",
              "      <td>1.521800</td>\n",
              "      <td>0</td>\n",
              "      <td>0</td>\n",
              "      <td>0</td>\n",
              "      <td>0</td>\n",
              "      <td>0</td>\n",
              "      <td>0</td>\n",
              "      <td>0</td>\n",
              "      <td>0</td>\n",
              "      <td>0</td>\n",
              "      <td>0</td>\n",
              "      <td>0</td>\n",
              "      <td>0</td>\n",
              "      <td>0</td>\n",
              "      <td>0</td>\n",
              "      <td>0</td>\n",
              "      <td>0</td>\n",
              "      <td>0</td>\n",
              "      <td>0</td>\n",
              "      <td>0</td>\n",
              "      <td>0</td>\n",
              "      <td>0</td>\n",
              "      <td>0</td>\n",
              "      <td>0</td>\n",
              "      <td>0</td>\n",
              "      <td>0</td>\n",
              "      <td>0</td>\n",
              "      <td>0</td>\n",
              "      <td>0</td>\n",
              "      <td>0</td>\n",
              "      <td>0</td>\n",
              "      <td>0</td>\n",
              "      <td>0</td>\n",
              "      <td>0</td>\n",
              "      <td>0</td>\n",
              "      <td>0</td>\n",
              "      <td>0</td>\n",
              "      <td>...</td>\n",
              "      <td>15291</td>\n",
              "      <td>15291</td>\n",
              "      <td>15307</td>\n",
              "      <td>15307</td>\n",
              "      <td>15314</td>\n",
              "      <td>15326</td>\n",
              "      <td>15338</td>\n",
              "      <td>15338</td>\n",
              "      <td>15338</td>\n",
              "      <td>15367</td>\n",
              "      <td>15369</td>\n",
              "      <td>15382</td>\n",
              "      <td>15382</td>\n",
              "      <td>15404</td>\n",
              "      <td>15404</td>\n",
              "      <td>15404</td>\n",
              "      <td>15425</td>\n",
              "      <td>15425</td>\n",
              "      <td>15462</td>\n",
              "      <td>15505</td>\n",
              "      <td>15516</td>\n",
              "      <td>15516</td>\n",
              "      <td>15516</td>\n",
              "      <td>15516</td>\n",
              "      <td>15516</td>\n",
              "      <td>15572</td>\n",
              "      <td>15618</td>\n",
              "      <td>15618</td>\n",
              "      <td>15618</td>\n",
              "      <td>15618</td>\n",
              "      <td>15705</td>\n",
              "      <td>15717</td>\n",
              "      <td>15744</td>\n",
              "      <td>15744</td>\n",
              "      <td>15819</td>\n",
              "      <td>15819</td>\n",
              "      <td>15819</td>\n",
              "      <td>15907</td>\n",
              "      <td>15929</td>\n",
              "      <td>15972</td>\n",
              "    </tr>\n",
              "    <tr>\n",
              "      <th>4</th>\n",
              "      <td>NaN</td>\n",
              "      <td>Angola</td>\n",
              "      <td>-11.20270</td>\n",
              "      <td>17.873900</td>\n",
              "      <td>0</td>\n",
              "      <td>0</td>\n",
              "      <td>0</td>\n",
              "      <td>0</td>\n",
              "      <td>0</td>\n",
              "      <td>0</td>\n",
              "      <td>0</td>\n",
              "      <td>0</td>\n",
              "      <td>0</td>\n",
              "      <td>0</td>\n",
              "      <td>0</td>\n",
              "      <td>0</td>\n",
              "      <td>0</td>\n",
              "      <td>0</td>\n",
              "      <td>0</td>\n",
              "      <td>0</td>\n",
              "      <td>0</td>\n",
              "      <td>0</td>\n",
              "      <td>0</td>\n",
              "      <td>0</td>\n",
              "      <td>0</td>\n",
              "      <td>0</td>\n",
              "      <td>0</td>\n",
              "      <td>0</td>\n",
              "      <td>0</td>\n",
              "      <td>0</td>\n",
              "      <td>0</td>\n",
              "      <td>0</td>\n",
              "      <td>0</td>\n",
              "      <td>0</td>\n",
              "      <td>0</td>\n",
              "      <td>0</td>\n",
              "      <td>0</td>\n",
              "      <td>0</td>\n",
              "      <td>0</td>\n",
              "      <td>0</td>\n",
              "      <td>...</td>\n",
              "      <td>61245</td>\n",
              "      <td>61378</td>\n",
              "      <td>61580</td>\n",
              "      <td>61794</td>\n",
              "      <td>62143</td>\n",
              "      <td>62385</td>\n",
              "      <td>62606</td>\n",
              "      <td>62789</td>\n",
              "      <td>62842</td>\n",
              "      <td>63012</td>\n",
              "      <td>63197</td>\n",
              "      <td>63340</td>\n",
              "      <td>63567</td>\n",
              "      <td>63691</td>\n",
              "      <td>63775</td>\n",
              "      <td>63861</td>\n",
              "      <td>63930</td>\n",
              "      <td>64033</td>\n",
              "      <td>64126</td>\n",
              "      <td>64226</td>\n",
              "      <td>64301</td>\n",
              "      <td>64374</td>\n",
              "      <td>64433</td>\n",
              "      <td>64458</td>\n",
              "      <td>64487</td>\n",
              "      <td>64533</td>\n",
              "      <td>64583</td>\n",
              "      <td>64612</td>\n",
              "      <td>64654</td>\n",
              "      <td>64674</td>\n",
              "      <td>64724</td>\n",
              "      <td>64762</td>\n",
              "      <td>64815</td>\n",
              "      <td>64857</td>\n",
              "      <td>64875</td>\n",
              "      <td>64899</td>\n",
              "      <td>64913</td>\n",
              "      <td>64913</td>\n",
              "      <td>64940</td>\n",
              "      <td>64968</td>\n",
              "    </tr>\n",
              "  </tbody>\n",
              "</table>\n",
              "<p>5 rows × 670 columns</p>\n",
              "</div>"
            ],
            "text/plain": [
              "  Province/State Country/Region       Lat  ...  11/15/21  11/16/21  11/17/21\n",
              "0            NaN    Afghanistan  33.93911  ...    156610    156649    156739\n",
              "1            NaN        Albania  41.15330  ...    193269    193856    194472\n",
              "2            NaN        Algeria  28.03390  ...    208104    208245    208380\n",
              "3            NaN        Andorra  42.50630  ...     15907     15929     15972\n",
              "4            NaN         Angola -11.20270  ...     64913     64940     64968\n",
              "\n",
              "[5 rows x 670 columns]"
            ]
          },
          "metadata": {},
          "execution_count": 22
        }
      ]
    },
    {
      "cell_type": "code",
      "metadata": {
        "colab": {
          "base_uri": "https://localhost:8080/"
        },
        "id": "cOHnmdSzVDoD",
        "outputId": "e75e796a-5710-4ce5-c518-ee01b52bdeb6"
      },
      "source": [
        "df_confirmed_country = df_confirmed[df_confirmed['Country/Region'] == country]\n",
        "columns  = df_confirmed_country.columns[4:]\n",
        "len(columns)"
      ],
      "execution_count": 23,
      "outputs": [
        {
          "output_type": "execute_result",
          "data": {
            "text/plain": [
              "666"
            ]
          },
          "metadata": {},
          "execution_count": 23
        }
      ]
    },
    {
      "cell_type": "code",
      "metadata": {
        "id": "vmqMn_NeVOd0"
      },
      "source": [
        "index = df_confirmed_country.columns[4:]\n",
        "values = list(df_confirmed_country[df_confirmed_country.columns[4:]].sum())\n",
        "df = pd.DataFrame(index=index, data=values, columns=['Confirmed'])\n",
        "del index, values\n",
        "df.index = pd.to_datetime(df.index, format='%m/%d/%y')"
      ],
      "execution_count": 24,
      "outputs": []
    },
    {
      "cell_type": "code",
      "metadata": {
        "colab": {
          "base_uri": "https://localhost:8080/",
          "height": 206
        },
        "id": "TfNa4MC3VPA_",
        "outputId": "6854565b-eb05-4bcf-8a7d-3b3c59b1330a"
      },
      "source": [
        "df.tail()"
      ],
      "execution_count": 25,
      "outputs": [
        {
          "output_type": "execute_result",
          "data": {
            "text/html": [
              "<div>\n",
              "<style scoped>\n",
              "    .dataframe tbody tr th:only-of-type {\n",
              "        vertical-align: middle;\n",
              "    }\n",
              "\n",
              "    .dataframe tbody tr th {\n",
              "        vertical-align: top;\n",
              "    }\n",
              "\n",
              "    .dataframe thead th {\n",
              "        text-align: right;\n",
              "    }\n",
              "</style>\n",
              "<table border=\"1\" class=\"dataframe\">\n",
              "  <thead>\n",
              "    <tr style=\"text-align: right;\">\n",
              "      <th></th>\n",
              "      <th>Confirmed</th>\n",
              "    </tr>\n",
              "  </thead>\n",
              "  <tbody>\n",
              "    <tr>\n",
              "      <th>2021-11-13</th>\n",
              "      <td>47054618</td>\n",
              "    </tr>\n",
              "    <tr>\n",
              "      <th>2021-11-14</th>\n",
              "      <td>47079428</td>\n",
              "    </tr>\n",
              "    <tr>\n",
              "      <th>2021-11-15</th>\n",
              "      <td>47221527</td>\n",
              "    </tr>\n",
              "    <tr>\n",
              "      <th>2021-11-16</th>\n",
              "      <td>47309008</td>\n",
              "    </tr>\n",
              "    <tr>\n",
              "      <th>2021-11-17</th>\n",
              "      <td>47420114</td>\n",
              "    </tr>\n",
              "  </tbody>\n",
              "</table>\n",
              "</div>"
            ],
            "text/plain": [
              "            Confirmed\n",
              "2021-11-13   47054618\n",
              "2021-11-14   47079428\n",
              "2021-11-15   47221527\n",
              "2021-11-16   47309008\n",
              "2021-11-17   47420114"
            ]
          },
          "metadata": {},
          "execution_count": 25
        }
      ]
    },
    {
      "cell_type": "code",
      "metadata": {
        "colab": {
          "base_uri": "https://localhost:8080/",
          "height": 342
        },
        "id": "poK0CJIBVSDM",
        "outputId": "ee2b1b77-6475-4e93-99e1-4c9d0c9e3b87"
      },
      "source": [
        "df.plot(figsize=(10, 5), )\n",
        "plt.show()"
      ],
      "execution_count": 26,
      "outputs": [
        {
          "output_type": "display_data",
          "data": {
            "image/png": "[encoded data removed]",
            "text/plain": [
              "<Figure size 720x360 with 1 Axes>"
            ]
          },
          "metadata": {
            "needs_background": "light"
          }
        }
      ]
    },
    {
      "cell_type": "code",
      "metadata": {
        "id": "Y1VLdN6iVWl_",
        "colab": {
          "base_uri": "https://localhost:8080/",
          "height": 390
        },
        "outputId": "850849c6-a70a-4991-e5fb-cdbba6e55b91"
      },
      "source": [
        "plt.figure(figsize=(10 , 6))\n",
        "plt.plot(df.Confirmed)\n",
        "plt.title(f'Covid-19 Cases for {country}')\n",
        "plt.show()"
      ],
      "execution_count": 27,
      "outputs": [
        {
          "output_type": "display_data",
          "data": {
            "image/png": "[encoded data removed]",
            "text/plain": [
              "<Figure size 720x432 with 1 Axes>"
            ]
          },
          "metadata": {
            "needs_background": "light"
          }
        }
      ]
    },
    {
      "cell_type": "code",
      "metadata": {
        "id": "do6j15-bV8VZ"
      },
      "source": [
        ""
      ],
      "execution_count": 27,
      "outputs": []
    },
    {
      "cell_type": "markdown",
      "metadata": {
        "id": "apKcRYo2W0Ir"
      },
      "source": [
        "### Use the dataset for training and the last tow weeks for testing. "
      ]
    },
    {
      "cell_type": "code",
      "metadata": {
        "id": "oX6in90JWuVi"
      },
      "source": [
        "size = 14 \n",
        "train = df[:-size]\n",
        "test = df[-size:]"
      ],
      "execution_count": 28,
      "outputs": []
    },
    {
      "cell_type": "code",
      "metadata": {
        "colab": {
          "base_uri": "https://localhost:8080/"
        },
        "id": "TN6ZQo28W9h1",
        "outputId": "a980346c-251d-4cf8-e23c-310b7b99e9ae"
      },
      "source": [
        "print(f'Traning size: {len(train)} days\\nTesting size: {len(test)} days')"
      ],
      "execution_count": 29,
      "outputs": [
        {
          "output_type": "stream",
          "name": "stdout",
          "text": [
            "Traning size: 652 days\n",
            "Testing size: 14 days\n"
          ]
        }
      ]
    },
    {
      "cell_type": "markdown",
      "metadata": {
        "id": "U8vR9bpFXGvf"
      },
      "source": [
        "### Scalling "
      ]
    },
    {
      "cell_type": "code",
      "metadata": {
        "id": "6aMlPlT1W-3j"
      },
      "source": [
        "from sklearn.preprocessing import MinMaxScaler\n",
        "scaler = MinMaxScaler(feature_range=(0, 1))\n",
        "scaler.fit(train)\n",
        "train_scaled = scaler.transform(train)\n",
        "test_scaled = scaler.transform(test)\n"
      ],
      "execution_count": 30,
      "outputs": []
    },
    {
      "cell_type": "markdown",
      "metadata": {
        "id": "yBjS9DE-XSoZ"
      },
      "source": [
        "### Bulding the sequance for traning usning TimeseriesGenerator"
      ]
    },
    {
      "cell_type": "code",
      "metadata": {
        "colab": {
          "base_uri": "https://localhost:8080/"
        },
        "id": "ZTgz-s3nXFah",
        "outputId": "2a8ef7fe-0e88-4f1e-bdfa-77df728f3c11"
      },
      "source": [
        "from tensorflow.keras.preprocessing.sequence import TimeseriesGenerator\n",
        "\n",
        "seq_size = 7\n",
        "n_features = 1\n",
        "train_generator = TimeseriesGenerator(train_scaled, train_scaled, length=seq_size, batch_size=1)\n",
        "\n",
        "print(f'Total number of samples in the origina traning data = {len(train)}')\n",
        "print(f'Total number of samples in the traning data = {len(train_generator)}')"
      ],
      "execution_count": 31,
      "outputs": [
        {
          "output_type": "stream",
          "name": "stdout",
          "text": [
            "Total number of samples in the origina traning data = 652\n",
            "Total number of samples in the traning data = 645\n"
          ]
        }
      ]
    },
    {
      "cell_type": "code",
      "metadata": {
        "colab": {
          "base_uri": "https://localhost:8080/"
        },
        "id": "-f4KnO1VXYzQ",
        "outputId": "a767cd7b-c16a-4d8f-8721-8f5bd9355546"
      },
      "source": [
        "print(f\"Cheking the shape of the X and y of our Data {train_generator[10]}\")\n",
        "# the output is right, we have 7 days and the 8ths is the label "
      ],
      "execution_count": 32,
      "outputs": [
        {
          "output_type": "stream",
          "name": "stdout",
          "text": [
            "Cheking the shape of the X and y of our Data (array([[[1.51258640e-07],\n",
            "        [1.51258640e-07],\n",
            "        [2.16083772e-07],\n",
            "        [2.16083772e-07],\n",
            "        [2.16083772e-07],\n",
            "        [2.37692149e-07],\n",
            "        [2.37692149e-07]]]), array([[2.37692149e-07]]))\n"
          ]
        }
      ]
    },
    {
      "cell_type": "markdown",
      "metadata": {
        "id": "Qcoqkz0xXfjg"
      },
      "source": [
        "### Bulding the sequance for Testing usning TimeseriesGenerator"
      ]
    },
    {
      "cell_type": "code",
      "metadata": {
        "colab": {
          "base_uri": "https://localhost:8080/"
        },
        "id": "cP6g6Ev3XaeD",
        "outputId": "9e659c31-e0e1-4c50-80b3-80bc305cab05"
      },
      "source": [
        "test_generator = TimeseriesGenerator(test_scaled, test_scaled, length=seq_size, batch_size=1)\n",
        "\n",
        "print(f'Total number of samples in the origina traning data = {len(test_scaled)}')\n",
        "print(f'Total number of samples in the traning data = {len(train_generator)}')"
      ],
      "execution_count": 33,
      "outputs": [
        {
          "output_type": "stream",
          "name": "stdout",
          "text": [
            "Total number of samples in the origina traning data = 14\n",
            "Total number of samples in the traning data = 645\n"
          ]
        }
      ]
    },
    {
      "cell_type": "code",
      "metadata": {
        "colab": {
          "base_uri": "https://localhost:8080/"
        },
        "id": "Hv7PrRb1Xdzd",
        "outputId": "5abb84a8-2919-4e09-a258-c314b4c4b9b0"
      },
      "source": [
        "print(f\"Cheking the shape of the X and y of our Data {test_generator[1]}\")\n",
        "# the output is right, we have 7 days and the 8ths is the label "
      ],
      "execution_count": 34,
      "outputs": [
        {
          "output_type": "stream",
          "name": "stdout",
          "text": [
            "Cheking the shape of the X and y of our Data (array([[[1.00384391],\n",
            "        [1.00455379],\n",
            "        [1.00531564],\n",
            "        [1.00774274],\n",
            "        [1.00947225],\n",
            "        [1.01151848],\n",
            "        [1.01271372]]]), array([[1.01574754]]))\n"
          ]
        }
      ]
    },
    {
      "cell_type": "code",
      "metadata": {
        "id": "jZb6fp30Xepp"
      },
      "source": [
        ""
      ],
      "execution_count": 34,
      "outputs": []
    },
    {
      "cell_type": "markdown",
      "metadata": {
        "id": "cCs6nXdiXtqM"
      },
      "source": [
        "### Building the model"
      ]
    },
    {
      "cell_type": "code",
      "metadata": {
        "colab": {
          "base_uri": "https://localhost:8080/"
        },
        "id": "QqpxPrIJXwtY",
        "outputId": "d5ecbc93-fa0d-437b-9b2d-a52f78d2276c"
      },
      "source": [
        "from tensorflow.keras.models import Sequential\n",
        "from tensorflow.keras.layers import Dense, LSTM, Dropout, Activation\n",
        "\n",
        "\n",
        "model = Sequential()\n",
        "model.add(LSTM(128, activation='relu', return_sequences=True, input_shape=(seq_size, n_features)))\n",
        "model.add(LSTM(128, activation='relu', return_sequences=True, input_shape=(seq_size, n_features)))\n",
        "model.add(LSTM(64, activation='relu'))\n",
        "model.add(Dense(64, activation='relu'))\n",
        "model.add(Dense(1, activation='linear'))\n",
        "model.compile(optimizer='adam', loss='mean_squared_error', metrics=['mse'])\n",
        "\n",
        "model.summary()"
      ],
      "execution_count": 35,
      "outputs": [
        {
          "output_type": "stream",
          "name": "stdout",
          "text": [
            "Model: \"sequential_1\"\n",
            "_________________________________________________________________\n",
            " Layer (type)                Output Shape              Param #   \n",
            "=================================================================\n",
            " lstm_3 (LSTM)               (None, 7, 128)            66560     \n",
            "                                                                 \n",
            " lstm_4 (LSTM)               (None, 7, 128)            131584    \n",
            "                                                                 \n",
            " lstm_5 (LSTM)               (None, 64)                49408     \n",
            "                                                                 \n",
            " dense_2 (Dense)             (None, 64)                4160      \n",
            "                                                                 \n",
            " dense_3 (Dense)             (None, 1)                 65        \n",
            "                                                                 \n",
            "=================================================================\n",
            "Total params: 251,777\n",
            "Trainable params: 251,777\n",
            "Non-trainable params: 0\n",
            "_________________________________________________________________\n"
          ]
        }
      ]
    },
    {
      "cell_type": "code",
      "metadata": {
        "colab": {
          "base_uri": "https://localhost:8080/"
        },
        "id": "X-1MTGLNXxTg",
        "outputId": "c4d61b9a-45e3-4175-abfd-03402f8dcdbf"
      },
      "source": [
        "\n",
        "history = model.fit(train_generator, \n",
        "                    validation_data=test_generator, \n",
        "                    epochs=50, steps_per_epoch=10)\n",
        "\n"
      ],
      "execution_count": 36,
      "outputs": [
        {
          "output_type": "stream",
          "name": "stdout",
          "text": [
            "Epoch 1/50\n",
            "10/10 [==============================] - 4s 81ms/step - loss: 0.2918 - mse: 0.2918 - val_loss: 0.8081 - val_mse: 0.8081\n",
            "Epoch 2/50\n",
            "10/10 [==============================] - 0s 21ms/step - loss: 0.1285 - mse: 0.1285 - val_loss: 0.2096 - val_mse: 0.2096\n",
            "Epoch 3/50\n",
            "10/10 [==============================] - 0s 20ms/step - loss: 0.1141 - mse: 0.1141 - val_loss: 0.0685 - val_mse: 0.0685\n",
            "Epoch 4/50\n",
            "10/10 [==============================] - 0s 20ms/step - loss: 0.0262 - mse: 0.0262 - val_loss: 0.1821 - val_mse: 0.1821\n",
            "Epoch 5/50\n",
            "10/10 [==============================] - 0s 21ms/step - loss: 0.0387 - mse: 0.0387 - val_loss: 0.0549 - val_mse: 0.0549\n",
            "Epoch 6/50\n",
            "10/10 [==============================] - 0s 21ms/step - loss: 0.0096 - mse: 0.0096 - val_loss: 0.0226 - val_mse: 0.0226\n",
            "Epoch 7/50\n",
            "10/10 [==============================] - 0s 20ms/step - loss: 0.0049 - mse: 0.0049 - val_loss: 0.0113 - val_mse: 0.0113\n",
            "Epoch 8/50\n",
            "10/10 [==============================] - 0s 22ms/step - loss: 0.0052 - mse: 0.0052 - val_loss: 0.0275 - val_mse: 0.0275\n",
            "Epoch 9/50\n",
            "10/10 [==============================] - 0s 22ms/step - loss: 0.0028 - mse: 0.0028 - val_loss: 0.0028 - val_mse: 0.0028\n",
            "Epoch 10/50\n",
            "10/10 [==============================] - 0s 21ms/step - loss: 0.0018 - mse: 0.0018 - val_loss: 0.0060 - val_mse: 0.0060\n",
            "Epoch 11/50\n",
            "10/10 [==============================] - 0s 22ms/step - loss: 4.3389e-04 - mse: 4.3389e-04 - val_loss: 3.4475e-04 - val_mse: 3.4475e-04\n",
            "Epoch 12/50\n",
            "10/10 [==============================] - 0s 22ms/step - loss: 2.5244e-04 - mse: 2.5244e-04 - val_loss: 0.0011 - val_mse: 0.0011\n",
            "Epoch 13/50\n",
            "10/10 [==============================] - 0s 21ms/step - loss: 2.5799e-04 - mse: 2.5799e-04 - val_loss: 9.6012e-04 - val_mse: 9.6012e-04\n",
            "Epoch 14/50\n",
            "10/10 [==============================] - 0s 22ms/step - loss: 1.0627e-04 - mse: 1.0627e-04 - val_loss: 0.0013 - val_mse: 0.0013\n",
            "Epoch 15/50\n",
            "10/10 [==============================] - 0s 23ms/step - loss: 3.0832e-05 - mse: 3.0832e-05 - val_loss: 7.5742e-04 - val_mse: 7.5742e-04\n",
            "Epoch 16/50\n",
            "10/10 [==============================] - 0s 22ms/step - loss: 8.9185e-05 - mse: 8.9185e-05 - val_loss: 0.0025 - val_mse: 0.0025\n",
            "Epoch 17/50\n",
            "10/10 [==============================] - 0s 22ms/step - loss: 1.6772e-04 - mse: 1.6772e-04 - val_loss: 7.3109e-04 - val_mse: 7.3109e-04\n",
            "Epoch 18/50\n",
            "10/10 [==============================] - 0s 21ms/step - loss: 1.7192e-04 - mse: 1.7192e-04 - val_loss: 9.3134e-04 - val_mse: 9.3134e-04\n",
            "Epoch 19/50\n",
            "10/10 [==============================] - 0s 22ms/step - loss: 4.6181e-05 - mse: 4.6181e-05 - val_loss: 8.7703e-04 - val_mse: 8.7703e-04\n",
            "Epoch 20/50\n",
            "10/10 [==============================] - 0s 24ms/step - loss: 4.5482e-05 - mse: 4.5482e-05 - val_loss: 0.0013 - val_mse: 0.0013\n",
            "Epoch 21/50\n",
            "10/10 [==============================] - 0s 21ms/step - loss: 2.3835e-04 - mse: 2.3835e-04 - val_loss: 6.9049e-04 - val_mse: 6.9049e-04\n",
            "Epoch 22/50\n",
            "10/10 [==============================] - 0s 23ms/step - loss: 4.4443e-04 - mse: 4.4443e-04 - val_loss: 0.0049 - val_mse: 0.0049\n",
            "Epoch 23/50\n",
            "10/10 [==============================] - 0s 21ms/step - loss: 5.1278e-04 - mse: 5.1278e-04 - val_loss: 1.1092e-04 - val_mse: 1.1092e-04\n",
            "Epoch 24/50\n",
            "10/10 [==============================] - 0s 21ms/step - loss: 2.4303e-04 - mse: 2.4303e-04 - val_loss: 3.2304e-04 - val_mse: 3.2304e-04\n",
            "Epoch 25/50\n",
            "10/10 [==============================] - 0s 23ms/step - loss: 2.4436e-04 - mse: 2.4436e-04 - val_loss: 0.0016 - val_mse: 0.0016\n",
            "Epoch 26/50\n",
            "10/10 [==============================] - 0s 22ms/step - loss: 2.0430e-04 - mse: 2.0430e-04 - val_loss: 0.0012 - val_mse: 0.0012\n",
            "Epoch 27/50\n",
            "10/10 [==============================] - 0s 22ms/step - loss: 1.3307e-04 - mse: 1.3307e-04 - val_loss: 0.0014 - val_mse: 0.0014\n",
            "Epoch 28/50\n",
            "10/10 [==============================] - 0s 24ms/step - loss: 9.3210e-05 - mse: 9.3210e-05 - val_loss: 7.1774e-04 - val_mse: 7.1774e-04\n",
            "Epoch 29/50\n",
            "10/10 [==============================] - 0s 21ms/step - loss: 7.7188e-05 - mse: 7.7188e-05 - val_loss: 0.0013 - val_mse: 0.0013\n",
            "Epoch 30/50\n",
            "10/10 [==============================] - 0s 21ms/step - loss: 2.8994e-05 - mse: 2.8994e-05 - val_loss: 0.0016 - val_mse: 0.0016\n",
            "Epoch 31/50\n",
            "10/10 [==============================] - 0s 21ms/step - loss: 1.5742e-04 - mse: 1.5742e-04 - val_loss: 0.0010 - val_mse: 0.0010\n",
            "Epoch 32/50\n",
            "10/10 [==============================] - 0s 22ms/step - loss: 5.3479e-05 - mse: 5.3479e-05 - val_loss: 7.3466e-04 - val_mse: 7.3466e-04\n",
            "Epoch 33/50\n",
            "10/10 [==============================] - 0s 21ms/step - loss: 8.5465e-05 - mse: 8.5465e-05 - val_loss: 6.5692e-04 - val_mse: 6.5692e-04\n",
            "Epoch 34/50\n",
            "10/10 [==============================] - 0s 22ms/step - loss: 2.8228e-04 - mse: 2.8228e-04 - val_loss: 0.0017 - val_mse: 0.0017\n",
            "Epoch 35/50\n",
            "10/10 [==============================] - 0s 22ms/step - loss: 9.0099e-04 - mse: 9.0099e-04 - val_loss: 0.0014 - val_mse: 0.0014\n",
            "Epoch 36/50\n",
            "10/10 [==============================] - 0s 21ms/step - loss: 1.6350e-04 - mse: 1.6350e-04 - val_loss: 1.8878e-04 - val_mse: 1.8878e-04\n",
            "Epoch 37/50\n",
            "10/10 [==============================] - 0s 21ms/step - loss: 1.8808e-04 - mse: 1.8808e-04 - val_loss: 1.4259e-04 - val_mse: 1.4259e-04\n",
            "Epoch 38/50\n",
            "10/10 [==============================] - 0s 22ms/step - loss: 2.5430e-04 - mse: 2.5430e-04 - val_loss: 2.4170e-04 - val_mse: 2.4170e-04\n",
            "Epoch 39/50\n",
            "10/10 [==============================] - 0s 22ms/step - loss: 3.1416e-04 - mse: 3.1416e-04 - val_loss: 6.4747e-04 - val_mse: 6.4747e-04\n",
            "Epoch 40/50\n",
            "10/10 [==============================] - 0s 23ms/step - loss: 1.4584e-04 - mse: 1.4584e-04 - val_loss: 5.8027e-04 - val_mse: 5.8027e-04\n",
            "Epoch 41/50\n",
            "10/10 [==============================] - 0s 22ms/step - loss: 1.5497e-04 - mse: 1.5497e-04 - val_loss: 0.0013 - val_mse: 0.0013\n",
            "Epoch 42/50\n",
            "10/10 [==============================] - 0s 22ms/step - loss: 1.1760e-04 - mse: 1.1760e-04 - val_loss: 4.3237e-06 - val_mse: 4.3237e-06\n",
            "Epoch 43/50\n",
            "10/10 [==============================] - 0s 23ms/step - loss: 9.5197e-05 - mse: 9.5197e-05 - val_loss: 0.0012 - val_mse: 0.0012\n",
            "Epoch 44/50\n",
            "10/10 [==============================] - 0s 24ms/step - loss: 2.0474e-04 - mse: 2.0474e-04 - val_loss: 0.0018 - val_mse: 0.0018\n",
            "Epoch 45/50\n",
            "10/10 [==============================] - 0s 23ms/step - loss: 2.1824e-05 - mse: 2.1824e-05 - val_loss: 2.2933e-04 - val_mse: 2.2933e-04\n",
            "Epoch 46/50\n",
            "10/10 [==============================] - 0s 22ms/step - loss: 1.0222e-04 - mse: 1.0222e-04 - val_loss: 5.2590e-04 - val_mse: 5.2590e-04\n",
            "Epoch 47/50\n",
            "10/10 [==============================] - 0s 21ms/step - loss: 1.2548e-04 - mse: 1.2548e-04 - val_loss: 3.2456e-04 - val_mse: 3.2456e-04\n",
            "Epoch 48/50\n",
            "10/10 [==============================] - 0s 22ms/step - loss: 2.0941e-04 - mse: 2.0941e-04 - val_loss: 9.5633e-06 - val_mse: 9.5633e-06\n",
            "Epoch 49/50\n",
            "10/10 [==============================] - 0s 22ms/step - loss: 1.8448e-04 - mse: 1.8448e-04 - val_loss: 9.1213e-04 - val_mse: 9.1213e-04\n",
            "Epoch 50/50\n",
            "10/10 [==============================] - 0s 23ms/step - loss: 7.0319e-05 - mse: 7.0319e-05 - val_loss: 2.4087e-05 - val_mse: 2.4087e-05\n"
          ]
        }
      ]
    },
    {
      "cell_type": "code",
      "metadata": {
        "colab": {
          "base_uri": "https://localhost:8080/",
          "height": 295
        },
        "id": "e3I5DG-dYHeT",
        "outputId": "eadfed04-c7e3-4227-eaaa-dab78ce177c8"
      },
      "source": [
        "loss = history.history['loss']\n",
        "val_loss = history.history['val_loss']\n",
        "epochs = range(1, len(loss) + 1)\n",
        "plt.plot(epochs, loss, 'y', label='Training loss')\n",
        "plt.plot(epochs, val_loss, 'r', label='Validation loss')\n",
        "plt.title('Training and validation loss')\n",
        "plt.xlabel('Epochs')\n",
        "plt.ylabel('Loss')\n",
        "plt.legend()\n",
        "plt.show()"
      ],
      "execution_count": 37,
      "outputs": [
        {
          "output_type": "display_data",
          "data": {
            "image/png": "[encoded data removed]",
            "text/plain": [
              "<Figure size 432x288 with 1 Axes>"
            ]
          },
          "metadata": {
            "needs_background": "light"
          }
        }
      ]
    },
    {
      "cell_type": "markdown",
      "metadata": {
        "id": "J-pl4SvhYtnU"
      },
      "source": [
        "### Prediction"
      ]
    },
    {
      "cell_type": "code",
      "metadata": {
        "colab": {
          "base_uri": "https://localhost:8080/",
          "height": 324
        },
        "id": "gZIBMwRmYc6x",
        "outputId": "f49348eb-832c-44b7-9a1d-ad860522c0e3"
      },
      "source": [
        "\n",
        "#forecast\n",
        "prediction = [] #Empty list to populate later with predictions\n",
        "\n",
        "current_batch = train_scaled[-seq_size:] #Final data points in train \n",
        "current_batch = current_batch.reshape(1, seq_size, n_features) #Reshape\n",
        "\n",
        "## Predict future, beyond test dates\n",
        "future = 7 \n",
        "for i in range(len(test) + future):\n",
        "    current_pred = model.predict(current_batch)[0]\n",
        "    prediction.append(current_pred)\n",
        "    current_batch = np.append(current_batch[:,1:,:],[[current_pred]],axis=1)\n",
        "\n",
        "### Inverse transform to before scaling so we get actual numbers\n",
        "rescaled_prediction = scaler.inverse_transform(prediction)\n",
        "\n",
        "time_series_array = test.index  #Get dates for test data\n",
        "\n",
        "#Add new dates for the forecast period\n",
        "for k in range(0, future):\n",
        "    time_series_array = time_series_array.append(time_series_array[-1:] + pd.DateOffset(1))\n",
        "\n",
        "#Create a dataframe to capture the forecast data\n",
        "df_forecast = pd.DataFrame(columns=[\"actual_confirmed\",\"predicted\"], index=time_series_array)\n",
        "\n",
        "df_forecast.loc[:,\"predicted\"] = rescaled_prediction[:,0]\n",
        "df_forecast.loc[:,\"actual_confirmed\"] = test[\"Confirmed\"]\n",
        "\n",
        "#Plot\n",
        "df_forecast.plot(title=\"Predictions for next 7 days\")\n",
        "\n",
        " \n",
        "    "
      ],
      "execution_count": 38,
      "outputs": [
        {
          "output_type": "execute_result",
          "data": {
            "text/plain": [
              "<matplotlib.axes._subplots.AxesSubplot at 0x7fa8fe5719d0>"
            ]
          },
          "metadata": {},
          "execution_count": 38
        },
        {
          "output_type": "display_data",
          "data": {
            "image/png": "[encoded data removed]",
            "text/plain": [
              "<Figure size 432x288 with 1 Axes>"
            ]
          },
          "metadata": {
            "needs_background": "light"
          }
        }
      ]
    },
    {
      "cell_type": "code",
      "metadata": {
        "id": "Gpk9gr8qYwKe"
      },
      "source": [
        ""
      ],
      "execution_count": 19,
      "outputs": []
    }
  ]
}